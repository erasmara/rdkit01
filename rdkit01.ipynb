{
 "cells": [
  {
   "cell_type": "code",
   "execution_count": 1,
   "id": "3a0140a0-ddb1-43ab-a419-1c2d17b02f2c",
   "metadata": {
    "scrolled": true
   },
   "outputs": [
    {
     "name": "stdout",
     "output_type": "stream",
     "text": [
      "Requirement already satisfied: rdkit in /opt/anaconda3/lib/python3.12/site-packages (2024.9.4)\n",
      "Requirement already satisfied: numpy in /opt/anaconda3/lib/python3.12/site-packages (from rdkit) (1.26.4)\n",
      "Requirement already satisfied: Pillow in /opt/anaconda3/lib/python3.12/site-packages (from rdkit) (10.4.0)\n",
      "Note: you may need to restart the kernel to use updated packages.\n"
     ]
    }
   ],
   "source": [
    "pip install rdkit --upgrade"
   ]
  },
  {
   "cell_type": "code",
   "execution_count": 2,
   "id": "6e790168-fb53-48d8-a9a1-006da287a98c",
   "metadata": {},
   "outputs": [
    {
     "name": "stdout",
     "output_type": "stream",
     "text": [
      "Using matplotlib backend: module://matplotlib_inline.backend_inline\n"
     ]
    }
   ],
   "source": [
    "# Import necessary modules\n",
    "from rdkit import Chem\n",
    "from rdkit.Chem import AllChem\n",
    "from rdkit.Chem import Draw\n",
    "from rdkit.Chem import Descriptors\n",
    "from rdkit.Chem import rdMolDescriptors\n",
    "from rdkit.Chem import FragmentCatalog\n",
    "from rdkit.Chem import rdMolTransforms\n",
    "from rdkit.Chem import rdFMCS\n",
    "from rdkit.Chem.Draw import IPythonConsole\n",
    "%matplotlib "
   ]
  },
  {
   "cell_type": "code",
   "execution_count": 3,
   "id": "e705137c-0d7a-4690-aa90-431b839213b8",
   "metadata": {},
   "outputs": [
    {
     "name": "stdout",
     "output_type": "stream",
     "text": [
      "<rdkit.Chem.rdchem.Mol object at 0x13660b3e0>\n"
     ]
    }
   ],
   "source": [
    "# 1. Create molecule from SMILES\n",
    "smiles = \"CC(=O)NC1=CC=C(C=C1)O\"  # Paracetamol\n",
    "mol = Chem.MolFromSmiles(smiles)\n",
    "print(mol)"
   ]
  },
  {
   "cell_type": "code",
   "execution_count": 4,
   "id": "cb79926d-403c-4f74-acbc-5f12b8340435",
   "metadata": {},
   "outputs": [
    {
     "data": {
      "image/jpeg": "[encoded data removed]",
      "image/png": "[encoded data removed]",
      "text/plain": [
       "<PIL.PngImagePlugin.PngImageFile image mode=RGB size=300x300>"
      ]
     },
     "execution_count": 4,
     "metadata": {},
     "output_type": "execute_result"
    }
   ],
   "source": [
    "# Generate image of the molecule\n",
    "img = Draw.MolToImage(mol)\n",
    "img"
   ]
  },
  {
   "cell_type": "code",
   "execution_count": 5,
   "id": "5795ac83-7b99-4986-b9c4-818e11e44b3f",
   "metadata": {},
   "outputs": [
    {
     "name": "stdout",
     "output_type": "stream",
     "text": [
      "SMILES: CC(=O)Nc1ccc(O)cc1\n"
     ]
    }
   ],
   "source": [
    "# 2. Convert molecule to SMILES\n",
    "smiles_string = Chem.MolToSmiles(mol)\n",
    "print(\"SMILES:\", smiles_string)\n"
   ]
  },
  {
   "cell_type": "code",
   "execution_count": 6,
   "id": "d099d8aa-6a13-4321-80ae-0df07742edd8",
   "metadata": {},
   "outputs": [
    {
     "name": "stdout",
     "output_type": "stream",
     "text": [
      "Molecular Weight: 151.063328528\n"
     ]
    }
   ],
   "source": [
    "# 3. Get molecular weight\n",
    "mol_weight = Descriptors.ExactMolWt(mol)\n",
    "print(\"Molecular Weight:\", mol_weight)"
   ]
  },
  {
   "cell_type": "code",
   "execution_count": 7,
   "id": "1f41c0f6-4f63-4da5-ac89-5b4a3d737dae",
   "metadata": {},
   "outputs": [
    {
     "name": "stdout",
     "output_type": "stream",
     "text": [
      "Number of atoms: 11\n"
     ]
    }
   ],
   "source": [
    "# 4. Count atoms\n",
    "num_atoms = mol.GetNumAtoms()\n",
    "print(\"Number of atoms:\", num_atoms)"
   ]
  },
  {
   "cell_type": "code",
   "execution_count": 8,
   "id": "b6d8475d-1b85-45f2-b7cd-6abcd4655d2e",
   "metadata": {},
   "outputs": [
    {
     "name": "stdout",
     "output_type": "stream",
     "text": [
      "Number of heavy atoms: 11\n"
     ]
    }
   ],
   "source": [
    "# 5. Count heavy atoms\n",
    "num_heavy_atoms = mol.GetNumHeavyAtoms()\n",
    "print(\"Number of heavy atoms:\", num_heavy_atoms)"
   ]
  },
  {
   "cell_type": "code",
   "execution_count": 9,
   "id": "1fc0fd08-1d8e-417e-b146-64fc01f0bc80",
   "metadata": {},
   "outputs": [
    {
     "name": "stdout",
     "output_type": "stream",
     "text": [
      "Atom symbols: ['C', 'C', 'O', 'N', 'C', 'C', 'C', 'C', 'C', 'C', 'O']\n"
     ]
    }
   ],
   "source": [
    " # 6. Get atom symbols\n",
    "atom_symbols = [atom.GetSymbol() for atom in mol.GetAtoms()]\n",
    "print(\"Atom symbols:\", atom_symbols)"
   ]
  },
  {
   "cell_type": "code",
   "execution_count": 10,
   "id": "30f59c39-c553-4688-af73-8352c3ea5bcf",
   "metadata": {},
   "outputs": [
    {
     "name": "stdout",
     "output_type": "stream",
     "text": [
      "Number of bonds: 11\n"
     ]
    }
   ],
   "source": [
    "# 7. Count bonds\n",
    "num_bonds = mol.GetNumBonds()\n",
    "print(\"Number of bonds:\", num_bonds)"
   ]
  },
  {
   "cell_type": "code",
   "execution_count": 11,
   "id": "9692dd8a-06b1-4ed8-8a05-90432dc741fb",
   "metadata": {},
   "outputs": [
    {
     "name": "stdout",
     "output_type": "stream",
     "text": [
      "Bond types: ['SINGLE', 'DOUBLE', 'SINGLE', 'SINGLE', 'AROMATIC', 'AROMATIC', 'AROMATIC', 'AROMATIC', 'AROMATIC', 'SINGLE', 'AROMATIC']\n"
     ]
    }
   ],
   "source": [
    "# 8. Get bond types\n",
    "bond_types = [bond.GetBondType().name for bond in mol.GetBonds()]\n",
    "print(\"Bond types:\", bond_types)"
   ]
  },
  {
   "cell_type": "code",
   "execution_count": 12,
   "id": "6831b580-cd92-4107-8810-df32f587bc5a",
   "metadata": {},
   "outputs": [
    {
     "name": "stdout",
     "output_type": "stream",
     "text": [
      "LogP: 1.3505999999999998\n"
     ]
    }
   ],
   "source": [
    "# 9. Calculate LogP\n",
    "logp = Descriptors.MolLogP(mol)\n",
    "print(\"LogP:\", logp)"
   ]
  },
  {
   "cell_type": "code",
   "execution_count": 13,
   "id": "655e7b66-6d1a-4753-9c28-a03aa78f2b4a",
   "metadata": {},
   "outputs": [
    {
     "name": "stdout",
     "output_type": "stream",
     "text": [
      "TPSA: 49.33\n"
     ]
    }
   ],
   "source": [
    "# 10. Calculate TPSA\n",
    "tpsa = Descriptors.TPSA(mol)\n",
    "print(\"TPSA:\", tpsa)"
   ]
  },
  {
   "cell_type": "code",
   "execution_count": 14,
   "id": "939e3dd0-79af-4f38-a673-0aff6c96571c",
   "metadata": {},
   "outputs": [
    {
     "name": "stdout",
     "output_type": "stream",
     "text": [
      "Atoms after adding H: 20\n"
     ]
    }
   ],
   "source": [
    "# 11. Add hydrogens\n",
    "mol_with_h = Chem.AddHs(mol)\n",
    "print(\"Atoms after adding H:\", mol_with_h.GetNumAtoms())"
   ]
  },
  {
   "cell_type": "code",
   "execution_count": 15,
   "id": "e2e7a055-d618-4eb2-a521-c7071e44af29",
   "metadata": {},
   "outputs": [
    {
     "name": "stdout",
     "output_type": "stream",
     "text": [
      "Atoms after removing H: 11\n"
     ]
    }
   ],
   "source": [
    "# 12. Remove hydrogens\n",
    "mol_without_h = Chem.RemoveHs(mol_with_h)\n",
    "print(\"Atoms after removing H:\", mol_without_h.GetNumAtoms())"
   ]
  },
  {
   "cell_type": "code",
   "execution_count": 16,
   "id": "524229c2-3a53-4aa5-b351-5b39577b01fa",
   "metadata": {},
   "outputs": [
    {
     "name": "stdout",
     "output_type": "stream",
     "text": [
      "Atom 0: [-4.23132883 -0.2779591   0.        ]\n",
      "Atom 1: [-2.78244009  0.11026947  0.        ]\n",
      "Atom 2: [-2.39421153  1.5591582   0.        ]\n",
      "Atom 3: [-1.72177992 -0.95039071  0.        ]\n",
      "Atom 4: [-0.27289118 -0.56216214  0.        ]\n",
      "Atom 5: [0.11533738 0.8867266  0.        ]\n",
      "Atom 6: [1.56422612 1.27495517 0.        ]\n",
      "Atom 7: [2.6248863 0.214295  0.       ]\n",
      "Atom 8: [ 2.23665773 -1.23459374  0.        ]\n",
      "Atom 9: [ 0.78776899 -1.62282231  0.        ]\n",
      "Atom 10: [4.07377504 0.60252356 0.        ]\n"
     ]
    }
   ],
   "source": [
    "# 13. Generate 2D coordinates\n",
    "\n",
    "# Compute 2D coordinates\n",
    "AllChem.Compute2DCoords(mol)\n",
    "# Get the 2D coordinates\n",
    "coords = mol.GetConformer().GetPositions()\n",
    "# Print the 2D coordinates\n",
    "for atom_idx, coord in enumerate(coords):\n",
    "    print(f\"Atom {atom_idx}: {coord}\")"
   ]
  },
  {
   "cell_type": "code",
   "execution_count": 17,
   "id": "f85dfaa2-fb81-4801-bd32-0ceb1fe1ac3b",
   "metadata": {},
   "outputs": [
    {
     "name": "stdout",
     "output_type": "stream",
     "text": [
      "InChI: InChI=1S/C8H9NO2/c1-6(10)9-7-2-4-8(11)5-3-7/h2-5,11H,1H3,(H,9,10)\n"
     ]
    }
   ],
   "source": [
    "# 14. Convert to InChI\n",
    "inchi = Chem.MolToInchi(mol)\n",
    "print(\"InChI:\", inchi)"
   ]
  },
  {
   "cell_type": "code",
   "execution_count": 19,
   "id": "090c420e-b643-4886-b49f-50752fb51b68",
   "metadata": {},
   "outputs": [
    {
     "name": "stdout",
     "output_type": "stream",
     "text": [
      "InChIKey: RZVAJINKPMORJF-UHFFFAOYSA-N\n"
     ]
    }
   ],
   "source": [
    "# 15. Convert to InChIKey\n",
    "inchikey = Chem.MolToInchiKey(mol)\n",
    "print(\"InChIKey:\", inchikey)"
   ]
  },
  {
   "cell_type": "code",
   "execution_count": 20,
   "id": "7563c538-149f-41b0-acf7-41413691c60e",
   "metadata": {},
   "outputs": [
    {
     "name": "stdout",
     "output_type": "stream",
     "text": [
      "Rotatable bonds: 1\n"
     ]
    }
   ],
   "source": [
    "# 16. Count rotatable bonds\n",
    "rotatable_bonds = rdMolDescriptors.CalcNumRotatableBonds(mol)\n",
    "print(\"Rotatable bonds:\", rotatable_bonds)"
   ]
  },
  {
   "cell_type": "code",
   "execution_count": 21,
   "id": "1b005be9-1311-4622-9be6-38ddc41d61cd",
   "metadata": {},
   "outputs": [
    {
     "name": "stdout",
     "output_type": "stream",
     "text": [
      "Number of rings: 1\n"
     ]
    }
   ],
   "source": [
    "# 17. Get ring count\n",
    "ring_count = rdMolDescriptors.CalcNumRings(mol)\n",
    "print(\"Number of rings:\", ring_count)"
   ]
  },
  {
   "cell_type": "code",
   "execution_count": 22,
   "id": "64748ba3-6d45-4e60-81c2-c65bd6102c68",
   "metadata": {},
   "outputs": [
    {
     "name": "stdout",
     "output_type": "stream",
     "text": [
      "Aromatic atoms: [False, True, True, True, True, False, True, True, False, False, False]\n"
     ]
    }
   ],
   "source": [
    "# 18. Check aromaticity\n",
    "aromatic_atoms = [atom.GetIsAromatic() for atom in mol.GetAtoms()]\n",
    "print(\"Aromatic atoms:\", aromatic_atoms)"
   ]
  },
  {
   "cell_type": "code",
   "execution_count": 23,
   "id": "f84941f2-6498-4b84-a025-4dcd31a65f8c",
   "metadata": {},
   "outputs": [
    {
     "name": "stdout",
     "output_type": "stream",
     "text": [
      "Formal charges: [0, 0, 0, 0, 0, 0, 0, 0, 0, 0, 0]\n"
     ]
    }
   ],
   "source": [
    "# 19. Get formal charges\n",
    "formal_charges = [atom.GetFormalCharge() for atom in mol.GetAtoms()]\n",
    "print(\"Formal charges:\", formal_charges)"
   ]
  },
  {
   "cell_type": "code",
   "execution_count": 24,
   "id": "8af89d1d-5818-4613-a37a-9c2dd54b06d3",
   "metadata": {},
   "outputs": [
    {
     "name": "stdout",
     "output_type": "stream",
     "text": [
      "Molecular formula: C8H9NO2\n"
     ]
    }
   ],
   "source": [
    "# 20. Calculate molecular formula\n",
    "mol_formula = rdMolDescriptors.CalcMolFormula(mol)\n",
    "print(\"Molecular formula:\", mol_formula)"
   ]
  },
  {
   "cell_type": "code",
   "execution_count": 25,
   "id": "00de2635-2049-4da6-b127-990f96411f5a",
   "metadata": {},
   "outputs": [
    {
     "name": "stdout",
     "output_type": "stream",
     "text": [
      "Atomic numbers: [6, 6, 6, 6, 6, 6, 6, 6, 7, 8, 8]\n"
     ]
    }
   ],
   "source": [
    "# 21. Get atomic numbers\n",
    "atomic_numbers = [atom.GetAtomicNum() for atom in mol.GetAtoms()]\n",
    "print(\"Atomic numbers:\", atomic_numbers)"
   ]
  },
  {
   "cell_type": "code",
   "execution_count": 26,
   "id": "a84caea9-ab85-42bd-aca2-c24b8116da94",
   "metadata": {},
   "outputs": [
    {
     "name": "stdout",
     "output_type": "stream",
     "text": [
      "Exact mass: 151.063328528\n"
     ]
    }
   ],
   "source": [
    "# 22. Calculate exact mass\n",
    "exact_mass = rdMolDescriptors.CalcExactMolWt(mol)\n",
    "print(\"Exact mass:\", exact_mass)"
   ]
  },
  {
   "cell_type": "code",
   "execution_count": 27,
   "id": "b3f1b455-fe7d-4739-826a-b0173e7e4865",
   "metadata": {},
   "outputs": [
    {
     "name": "stdout",
     "output_type": "stream",
     "text": [
      "Morgan fingerprint: 00000000000000000000000000000000000000000000000000...\n"
     ]
    }
   ],
   "source": [
    "from rdkit.Chem import rdFingerprintGenerator\n",
    "# 23. Generate Morgan fingerprint\n",
    "# Create a Morgan fingerprint generator with radius 2 and fingerprint size 2048\n",
    "mfpgen = rdFingerprintGenerator.GetMorganGenerator(radius=2, fpSize=2048)\n",
    "# Generate the Morgan fingerprint for the molecule\n",
    "morgan_fp = mfpgen.GetFingerprint(mol)\n",
    "# Print the first 50 bits of the fingerprint (for brevity)\n",
    "print(\"Morgan fingerprint:\", morgan_fp.ToBitString()[:50] + \"...\")"
   ]
  },
  {
   "cell_type": "code",
   "execution_count": 28,
   "id": "c96a2985-b351-4d02-b490-23553417ba72",
   "metadata": {},
   "outputs": [
    {
     "name": "stdout",
     "output_type": "stream",
     "text": [
      "MACCS keys: 00000000000000000000000000000000000000000000000000...\n"
     ]
    }
   ],
   "source": [
    "# 24. Generate MACCS keys\n",
    "maccs = AllChem.GetMACCSKeysFingerprint(mol)\n",
    "print(\"MACCS keys:\", maccs.ToBitString()[:50] + \"...\")"
   ]
  },
  {
   "cell_type": "code",
   "execution_count": 29,
   "id": "aee080e8-d0b9-4629-9e35-fd02ea18aa55",
   "metadata": {},
   "outputs": [
    {
     "name": "stdout",
     "output_type": "stream",
     "text": [
      "Chiral centers: []\n"
     ]
    }
   ],
   "source": [
    "# 25. Get chiral centers\n",
    "chiral_centers = Chem.FindMolChiralCenters(mol)\n",
    "print(\"Chiral centers:\", chiral_centers)"
   ]
  },
  {
   "cell_type": "code",
   "execution_count": 30,
   "id": "c24992db-c6fd-499f-8ef7-5aa3971fa264",
   "metadata": {},
   "outputs": [
    {
     "name": "stdout",
     "output_type": "stream",
     "text": [
      "H-bond donors: 2\n"
     ]
    }
   ],
   "source": [
    "# 26. Calculate number of H-bond donors\n",
    "hbd = rdMolDescriptors.CalcNumHBD(mol)\n",
    "print(\"H-bond donors:\", hbd)"
   ]
  },
  {
   "cell_type": "code",
   "execution_count": 31,
   "id": "30c8c525-62a5-46f3-aabc-6cd02631a4c1",
   "metadata": {},
   "outputs": [
    {
     "name": "stdout",
     "output_type": "stream",
     "text": [
      "H-bond acceptors: 2\n"
     ]
    }
   ],
   "source": [
    "# 27. Calculate number of H-bond acceptors\n",
    "hba = rdMolDescriptors.CalcNumHBA(mol)\n",
    "print(\"H-bond acceptors:\", hba)"
   ]
  },
  {
   "cell_type": "code",
   "execution_count": 32,
   "id": "931fef21-4017-4197-8315-f844b40c77c5",
   "metadata": {},
   "outputs": [
    {
     "name": "stdout",
     "output_type": "stream",
     "text": [
      "Valence electrons: [4, 4, 4, 4, 4, 4, 4, 4, 3, 2, 2]\n"
     ]
    }
   ],
   "source": [
    "# 28. Get valence electrons\n",
    "valence_electrons = [atom.GetTotalValence() for atom in mol.GetAtoms()]\n",
    "print(\"Valence electrons:\", valence_electrons)"
   ]
  },
  {
   "cell_type": "code",
   "execution_count": 33,
   "id": "61ce7eb8-ed95-40a1-96a9-92acdc37357c",
   "metadata": {},
   "outputs": [
    {
     "name": "stdout",
     "output_type": "stream",
     "text": [
      "<rdkit.Chem.rdchem.Mol object at 0x13667bae0>\n"
     ]
    }
   ],
   "source": [
    "# 29. Create another molecule for comparison\n",
    "mol2 = Chem.MolFromSmiles(\"CC(=O)O\")  # Acetic acid\n",
    "print(mol2)"
   ]
  },
  {
   "cell_type": "code",
   "execution_count": 34,
   "id": "14d5aac0-5061-4fdd-9cc8-666690bcfd9f",
   "metadata": {},
   "outputs": [
    {
     "name": "stdout",
     "output_type": "stream",
     "text": [
      "<rdkit.Chem.rdFMCS.MCSResult object at 0x1366b8200>\n",
      "MCS SMARTS: [#6]-[#6]-[#8]\n"
     ]
    }
   ],
   "source": [
    "# 30. Find maximum common substructure\n",
    "mcs = rdFMCS.FindMCS([mol, mol2])\n",
    "print(mcs)\n",
    "print(\"MCS SMARTS:\", mcs.smartsString)"
   ]
  },
  {
   "cell_type": "code",
   "execution_count": 35,
   "id": "973c56be-7bae-41ac-88c6-35ca0c568b93",
   "metadata": {},
   "outputs": [
    {
     "name": "stdout",
     "output_type": "stream",
     "text": [
      "Hybridization states: ['SP3', 'SP2', 'SP2', 'SP2', 'SP2', 'SP2', 'SP2', 'SP2', 'SP2', 'SP2', 'SP2']\n"
     ]
    }
   ],
   "source": [
    "# 31. Get hybridization states\n",
    "hybridization = [atom.GetHybridization().name for atom in mol.GetAtoms()]\n",
    "print(\"Hybridization states:\", hybridization)"
   ]
  },
  {
   "cell_type": "code",
   "execution_count": 36,
   "id": "547da6f3-1767-49ef-ad90-74625c18a15e",
   "metadata": {},
   "outputs": [
    {
     "name": "stdout",
     "output_type": "stream",
     "text": [
      "Implicit valence: [0, 0, 0, 0, 0, 0, 0, 0, 0, 0, 0]\n"
     ]
    }
   ],
   "source": [
    "# 32. Get implicit valence\n",
    "implicit_valence = [atom.GetImplicitValence() for atom in mol.GetAtoms()]\n",
    "print(\"Implicit valence:\", implicit_valence)"
   ]
  },
  {
   "cell_type": "raw",
   "id": "ad0ee7ed-6a97-45bc-96bc-416101d001e5",
   "metadata": {},
   "source": [
    "Explicit Valence: The actual number of bonds an atom forms, directly shown in a molecular structure.\n",
    "\n",
    "Implicit Valence: The expected number of bonds an atom typically forms, based on its position in the periodic table or typical bonding behavior, even if not directly shown.\n",
    "in a neutral compound, the explicit and implicit valences of atoms are typically the same."
   ]
  },
  {
   "cell_type": "code",
   "execution_count": 37,
   "id": "7a0e6ed6-0a2b-4119-8d57-67913be07f5f",
   "metadata": {},
   "outputs": [
    {
     "name": "stdout",
     "output_type": "stream",
     "text": [
      "Explicit valence: [4, 4, 4, 4, 4, 4, 4, 4, 3, 2, 2]\n"
     ]
    }
   ],
   "source": [
    "# 33. Get explicit valence\n",
    "explicit_valence = [atom.GetExplicitValence() for atom in mol.GetAtoms()]\n",
    "print(\"Explicit valence:\", explicit_valence)"
   ]
  },
  {
   "cell_type": "code",
   "execution_count": 38,
   "id": "37c3ab7a-ea05-40b0-810c-47be4dc85f58",
   "metadata": {},
   "outputs": [
    {
     "name": "stdout",
     "output_type": "stream",
     "text": [
      "Molar refractivity: 43.50460000000002\n"
     ]
    }
   ],
   "source": [
    "# 34. Calculate molar refractivity\n",
    "molar_refractivity = Descriptors.MolMR(mol)\n",
    "print(\"Molar refractivity:\", molar_refractivity)"
   ]
  },
  {
   "cell_type": "raw",
   "id": "e4f96b9d-f0b8-4377-a7d5-2bc5c5a1ec3b",
   "metadata": {},
   "source": [
    "Molar Refractivity: It is a physical property that measures the volume occupied by one mole of a substance in the refractive index. It reflects the polarizability of a molecule and is related to the molecule's size and structure."
   ]
  },
  {
   "cell_type": "code",
   "execution_count": 39,
   "id": "db58854d-066f-4045-94eb-a73324c6e57d",
   "metadata": {},
   "outputs": [
    {
     "name": "stdout",
     "output_type": "stream",
     "text": [
      "Aromatic rings: 1\n"
     ]
    }
   ],
   "source": [
    "# 35. Get aromatic ring count\n",
    "aromatic_rings = rdMolDescriptors.CalcNumAromaticRings(mol)\n",
    "print(\"Aromatic rings:\", aromatic_rings)"
   ]
  },
  {
   "cell_type": "code",
   "execution_count": 40,
   "id": "7b347b2d-23aa-49c2-8892-e4799e04c8cd",
   "metadata": {},
   "outputs": [
    {
     "name": "stdout",
     "output_type": "stream",
     "text": [
      "Aliphatic rings: 0\n"
     ]
    }
   ],
   "source": [
    "# 36. Get aliphatic ring count\n",
    "aliphatic_rings = rdMolDescriptors.CalcNumAliphaticRings(mol)\n",
    "print(\"Aliphatic rings:\", aliphatic_rings)"
   ]
  },
  {
   "cell_type": "code",
   "execution_count": 41,
   "id": "71d02810-7583-4fe9-ba9c-ecf800943e47",
   "metadata": {},
   "outputs": [
    {
     "name": "stdout",
     "output_type": "stream",
     "text": [
      "Ring sizes: [6]\n"
     ]
    }
   ],
   "source": [
    "# 37. Get ring sizes\n",
    "ring_info = mol.GetRingInfo()\n",
    "ring_sizes = [len(ring) for ring in ring_info.AtomRings()]\n",
    "print(\"Ring sizes:\", ring_sizes)"
   ]
  },
  {
   "cell_type": "code",
   "execution_count": 42,
   "id": "eb1ad5a7-401f-42d9-ba6b-ffc1a9ef014b",
   "metadata": {},
   "outputs": [
    {
     "name": "stdout",
     "output_type": "stream",
     "text": [
      "Balaban J index: 2.9065977916543706\n"
     ]
    }
   ],
   "source": [
    "# 38. Calculate Balaban J index\n",
    "balaban = Descriptors.BalabanJ(mol)\n",
    "print(\"Balaban J index:\", balaban)"
   ]
  },
  {
   "cell_type": "raw",
   "id": "0d7ba3eb-b2f9-43ed-933f-602bdedccaa9",
   "metadata": {},
   "source": [
    "The Balaban J index is a topological index used in chemistry to describe the complexity of a molecule's structure. It is a numerical value that characterizes the molecular graph based on the connectivity and distances between atoms (vertices) in the molecule."
   ]
  },
  {
   "cell_type": "code",
   "execution_count": 43,
   "id": "5df5282a-df4b-49e7-812f-4965ee7921b9",
   "metadata": {},
   "outputs": [
    {
     "name": "stdout",
     "output_type": "stream",
     "text": [
      "Bertz complexity: 259.92547657141216\n"
     ]
    }
   ],
   "source": [
    "# 39. Calculate Bertz complexity\n",
    "bertz = Descriptors.BertzCT(mol)\n",
    "print(\"Bertz complexity:\", bertz)"
   ]
  },
  {
   "cell_type": "raw",
   "id": "d31f90d6-f883-46e5-a298-761ed4a9eea4",
   "metadata": {},
   "source": [
    "Bertz Complexity is a topological index used to quantify the complexity of a molecule's structure based on its graph. It measures how difficult or intricate the molecular connectivity is by considering both the size of the molecule and how its atoms are connected."
   ]
  },
  {
   "cell_type": "code",
   "execution_count": 44,
   "id": "201b165d-981b-4990-b6fc-26ee4c8ce925",
   "metadata": {},
   "outputs": [
    {
     "name": "stdout",
     "output_type": "stream",
     "text": [
      "Symmetry classes: <rdkit.rdBase._vectj object at 0x1366968c0>\n",
      "Symmetry classes: [0, 5, 6, 3, 4, 8, 10, 9, 7, 1, 2]\n"
     ]
    }
   ],
   "source": [
    "\n",
    "# 40. Get symmetry classes\n",
    "symmetry_classes = Chem.CanonicalRankAtoms(mol)\n",
    "print(\"Symmetry classes:\", symmetry_classes)\n",
    "print(\"Symmetry classes:\", list(symmetry_classes))"
   ]
  },
  {
   "cell_type": "raw",
   "id": "b0d0efc5-0d40-47b5-81c1-1f2bcdad0ea3",
   "metadata": {},
   "source": [
    "symmetry classes essentially group atoms that are equivalent in terms of their connectivity and position in the molecule. This helps identify atoms that are in similar positions or have similar environments, even if they are not exactly the same."
   ]
  },
  {
   "cell_type": "code",
   "execution_count": 45,
   "id": "ab51429b-9658-4588-806c-50c27604638d",
   "metadata": {},
   "outputs": [
    {
     "name": "stdout",
     "output_type": "stream",
     "text": [
      "Topological fingerprint: 00001001000000000100000000000100000000000000000000...\n"
     ]
    }
   ],
   "source": [
    "# 41. Generate topological fingerprint\n",
    "topological_fp = AllChem.RDKFingerprint(mol)\n",
    "print(\"Topological fingerprint:\", topological_fp.ToBitString()[:50] + \"...\")"
   ]
  },
  {
   "cell_type": "code",
   "execution_count": 46,
   "id": "76b7380e-8cad-4f90-b156-06ded45a3017",
   "metadata": {},
   "outputs": [
    {
     "name": "stdout",
     "output_type": "stream",
     "text": [
      "Fraction of sp3 carbons: 0.125\n"
     ]
    }
   ],
   "source": [
    "# 42. Calculate fraction of sp3 carbons\n",
    "fsp3 = rdMolDescriptors.CalcFractionCSP3(mol)\n",
    "print(\"Fraction of sp3 carbons:\", fsp3)"
   ]
  },
  {
   "cell_type": "code",
   "execution_count": 47,
   "id": "aa3892e7-b973-4462-aff4-3918068b26d4",
   "metadata": {},
   "outputs": [
    {
     "name": "stdout",
     "output_type": "stream",
     "text": [
      "Aromatic (conjugated) atoms: [1, 2, 3, 4, 6, 7]\n",
      "Conjugated bonds (alternating single and double):\n",
      "Bond between atoms 0 and 5 of type SINGLE\n",
      "Bond between atoms 5 and 8 of type DOUBLE\n",
      "Bond between atoms 5 and 9 of type SINGLE\n",
      "Bond between atoms 6 and 8 of type SINGLE\n",
      "Bond between atoms 7 and 10 of type SINGLE\n"
     ]
    }
   ],
   "source": [
    "\n",
    "# 43. Get conjugated systems\n",
    "# Detect conjugated atoms using aromaticity (conjugated rings)\n",
    "aromatic_atoms = [atom.GetIdx() for atom in mol.GetAtoms() if atom.GetIsAromatic()]\n",
    "\n",
    "# Detect conjugated bonds (alternating single and double bonds in chains)\n",
    "conjugated_bonds = [(bond.GetBeginAtomIdx(), bond.GetEndAtomIdx(), bond.GetBondType()) for bond in mol.GetBonds() \n",
    "                    if bond.GetBondType() in [Chem.BondType.DOUBLE, Chem.BondType.SINGLE]]\n",
    "\n",
    "# Output results\n",
    "print(\"Aromatic (conjugated) atoms:\", aromatic_atoms)\n",
    "print(\"Conjugated bonds (alternating single and double):\")\n",
    "for bond in conjugated_bonds:\n",
    "    print(f\"Bond between atoms {bond[0]} and {bond[1]} of type {bond[2]}\")\n"
   ]
  },
  {
   "cell_type": "code",
   "execution_count": 48,
   "id": "b277bde9-ae3e-48ba-893f-b77d56b62c13",
   "metadata": {},
   "outputs": [
    {
     "name": "stdout",
     "output_type": "stream",
     "text": [
      "Total charge: 0\n"
     ]
    }
   ],
   "source": [
    "# 44. Calculate charge\n",
    "total_charge = sum(atom.GetFormalCharge() for atom in mol.GetAtoms())\n",
    "print(\"Total charge:\", total_charge)"
   ]
  },
  {
   "cell_type": "code",
   "execution_count": 49,
   "id": "e575ec00-6f70-4177-bf7b-8d28b14c1763",
   "metadata": {},
   "outputs": [
    {
     "data": {
      "text/plain": [
       "0"
      ]
     },
     "execution_count": 49,
     "metadata": {},
     "output_type": "execute_result"
    }
   ],
   "source": [
    "# 45. Generate 3D coordinates\n",
    "mol_3d = Chem.AddHs(mol)\n",
    "AllChem.EmbedMolecule(mol_3d)\n",
    "AllChem.MMFFOptimizeMolecule(mol_3d)"
   ]
  },
  {
   "cell_type": "raw",
   "id": "ce3534ec-6229-4679-80bb-e48cf7b91348",
   "metadata": {},
   "source": [
    "If the output of AllChem.MMFFOptimizeMolecule(mol_3d) is zero, it indicates that the optimization process has converged successfully, meaning the geometry of the molecule is already in a low-energy, stable state according to the MMFF (Merck Molecular Force Field) optimization. A result of zero suggests that the system has reached an energy minimum after the optimization process."
   ]
  },
  {
   "cell_type": "code",
   "execution_count": 50,
   "id": "0bc8ca0f-5ca5-4c52-b9c9-718f4f3cbc5a",
   "metadata": {},
   "outputs": [
    {
     "name": "stdout",
     "output_type": "stream",
     "text": [
      "Distance matrix shape: (20, 20)\n"
     ]
    }
   ],
   "source": [
    "# 46. Get distance matrix\n",
    "dist_matrix = Chem.Get3DDistanceMatrix(mol_3d)\n",
    "print(\"Distance matrix shape:\", dist_matrix.shape)"
   ]
  },
  {
   "cell_type": "raw",
   "id": "fb8c5c82-d377-4b44-97aa-2d20d0af3b19",
   "metadata": {},
   "source": [
    "The matrix represents the pairwise distances between each of the 21 atoms in 3D space. The value at position (i, j) in the matrix indicates the distance between atom i and atom j."
   ]
  },
  {
   "cell_type": "code",
   "execution_count": 51,
   "id": "3b28a9f4-ae8a-453f-aa59-5810d3fe229c",
   "metadata": {},
   "outputs": [
    {
     "name": "stdout",
     "output_type": "stream",
     "text": [
      "Atom degrees: [1, 2, 2, 2, 2, 3, 3, 3, 2, 1, 1]\n"
     ]
    }
   ],
   "source": [
    "# 47. Get degree of atoms\n",
    "atom_degrees = [atom.GetDegree() for atom in mol.GetAtoms()]\n",
    "print(\"Atom degrees:\", atom_degrees)"
   ]
  },
  {
   "cell_type": "raw",
   "id": "db6ea5bc-5426-49fa-9be5-4297d9fccc69",
   "metadata": {},
   "source": [
    "The degree of an atom in a molecule refers to the number of bonds (single, double, or triple) that the atom has with other atoms in the molecule. In other words, it counts how many other atoms are directly connected to a specific atom."
   ]
  },
  {
   "cell_type": "code",
   "execution_count": 52,
   "id": "ca942ec7-a2b8-419a-ae84-d5efff0a5544",
   "metadata": {},
   "outputs": [
    {
     "name": "stdout",
     "output_type": "stream",
     "text": [
      "Van der Waals volume: 58\n"
     ]
    }
   ],
   "source": [
    "# 48. Calculate van der Waals volume\n",
    "vdw_volume = Descriptors.NumValenceElectrons(mol)\n",
    "print(\"Van der Waals volume:\", vdw_volume)"
   ]
  },
  {
   "cell_type": "code",
   "execution_count": 53,
   "id": "48eedc8e-7985-4235-b04b-538d4d22b084",
   "metadata": {},
   "outputs": [
    {
     "name": "stdout",
     "output_type": "stream",
     "text": [
      "Isotopes: [0, 0, 0, 0, 0, 0, 0, 0, 0, 0, 0]\n"
     ]
    }
   ],
   "source": [
    "# 49. Get isotopes\n",
    "isotopes = [atom.GetIsotope() for atom in mol.GetAtoms()]\n",
    "print(\"Isotopes:\", isotopes)"
   ]
  },
  {
   "cell_type": "code",
   "execution_count": 54,
   "id": "55697972-1fc0-45b7-9695-49f3f64aaaba",
   "metadata": {},
   "outputs": [
    {
     "name": "stdout",
     "output_type": "stream",
     "text": [
      "Molecule image saved as 'molecule.png'\n"
     ]
    }
   ],
   "source": [
    "# 50. Save molecule as image\n",
    "Draw.MolToFile(mol, \"molecule.png\")\n",
    "print(\"Molecule image saved as 'molecule.png'\")"
   ]
  },
  {
   "cell_type": "code",
   "execution_count": null,
   "id": "a3542009-301a-4695-ad34-06dad231f18f",
   "metadata": {},
   "outputs": [],
   "source": []
  }
 ],
 "metadata": {
  "kernelspec": {
   "display_name": "Python 3 (ipykernel)",
   "language": "python",
   "name": "python3"
  },
  "language_info": {
   "codemirror_mode": {
    "name": "ipython",
    "version": 3
   },
   "file_extension": ".py",
   "mimetype": "text/x-python",
   "name": "python",
   "nbconvert_exporter": "python",
   "pygments_lexer": "ipython3",
   "version": "3.12.7"
  }
 },
 "nbformat": 4,
 "nbformat_minor": 5
}
